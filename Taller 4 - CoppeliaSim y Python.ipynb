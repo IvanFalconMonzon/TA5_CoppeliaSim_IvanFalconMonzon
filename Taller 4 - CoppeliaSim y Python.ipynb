{
 "cells": [
  {
   "cell_type": "markdown",
   "metadata": {},
   "source": [
    "<h2> Taller 4 - CoppeliaSim y Python</h2>\n",
    "\n",
    "<br>Requiere que los archivos 'sim.py', 'simConst.py', 'remoteapi.dll' estén alojados en la misma carpeta que este cuaderno de Jupyter\n",
    "<br><h4> Instrucciones</h4>\n",
    "<br>1. Abra la escena robotPlanar.ttt\n",
    "<br>2. Seleccionando la base del robot desde la jerarquía de escena, presione botón derecho del mouse y agregue un archivo de script mediante Add -> Associated child script -> Non threaded. Aparecerá un pequeño ícono de documento junto al nombre del robot en la escena de jerarquía.\n",
    "<br>3. En el script es posible incluir código de programación, escritos en lenguaje LUA. Para nuestro caso, todo el código que requeriremos es habilitar el API remoto, asignando un puerto de comunicación. En la función <b>sysCall_init()</b> agregue la siguiente línea:\n",
    "<br> \n",
    "<font face = \"Monospace\"> <pre> simRemoteApi.start(19999)</font>\n",
    "<br> Proceda a continuación con las actividades:"
   ]
  },
  {
   "cell_type": "code",
   "execution_count": 112,
   "metadata": {},
   "outputs": [],
   "source": [
    "import sim\n",
    "import numpy as np"
   ]
  },
  {
   "cell_type": "markdown",
   "metadata": {},
   "source": [
    "### 1. Establecer la conexión\n",
    "Utilizaremos las funciones del API Remoto de VREP.\n",
    "<br> Para más detalles refiérase a la documentación de la librería:\n",
    "<br> http://www.coppeliarobotics.com/helpFiles/en/remoteApiFunctionsPython.htm"
   ]
  },
  {
   "cell_type": "code",
   "execution_count": 113,
   "metadata": {},
   "outputs": [],
   "source": [
    "def connect(port):\n",
    "# Establece la conexión a VREP\n",
    "# port debe coincidir con el puerto de conexión en VREP\n",
    "# retorna el número de cliente o -1 si no puede establecer conexión\n",
    "    sim.simxFinish(-1) # just in case, close all opened connections\n",
    "    clientID=sim.simxStart('127.0.0.1',port,True,True,2000,5) # Conectarse\n",
    "    if clientID == 0: print(\"conectado a\", port)\n",
    "    else: print(\"no se pudo conectar\")\n",
    "    return clientID\n"
   ]
  },
  {
   "cell_type": "code",
   "execution_count": 114,
   "metadata": {},
   "outputs": [
    {
     "name": "stdout",
     "output_type": "stream",
     "text": [
      "conectado a 19999\n"
     ]
    }
   ],
   "source": [
    "# Conectarse al servidor de VREP\n",
    "# *** ejecutar cada vez que se reinicia la simulación ***\n",
    "clientID = connect(19999)"
   ]
  },
  {
   "cell_type": "markdown",
   "metadata": {},
   "source": [
    "<h3> 2. Obtener los manejadores (handlers)</h3>\n",
    "Un manejador (handler) es un número identificador que asigna VREP para cada uno de los elementos de la escena. A través de su manejador se puede hacer referencia a un elemento en específico de la escena."
   ]
  },
  {
   "cell_type": "code",
   "execution_count": 115,
   "metadata": {},
   "outputs": [
    {
     "name": "stdout",
     "output_type": "stream",
     "text": [
      "21\n"
     ]
    }
   ],
   "source": [
    "# Obtenemos el manejador para el dummy \n",
    "returnCode,handle=sim.simxGetObjectHandle(clientID,'dummy',sim.simx_opmode_blocking)\n",
    "dummy = handle\n",
    "print(dummy)"
   ]
  },
  {
   "cell_type": "code",
   "execution_count": 116,
   "metadata": {},
   "outputs": [
    {
     "name": "stdout",
     "output_type": "stream",
     "text": [
      "[0.4999404549598694, 0.004880063701421022, 8.853242405848505e-08]\n"
     ]
    }
   ],
   "source": [
    "# A partir de su manejador podemos accionar sobre el objeto,\n",
    "# por ejemplo, obtener su posición\n",
    "returnCode,pos=sim.simxGetObjectPosition(clientID, dummy, -1, sim.simx_opmode_blocking)\n",
    "print(pos)"
   ]
  },
  {
   "cell_type": "code",
   "execution_count": 117,
   "metadata": {},
   "outputs": [
    {
     "name": "stdout",
     "output_type": "stream",
     "text": [
      "17 19\n"
     ]
    }
   ],
   "source": [
    "# Obtenemos los manejadores para cada una de las articulaciones del robot\n",
    "ret,joint1=sim.simxGetObjectHandle(clientID,'joint1',sim.simx_opmode_blocking)\n",
    "ret,joint2=sim.simxGetObjectHandle(clientID,'joint2',sim.simx_opmode_blocking)\n",
    "print(joint1, joint2)"
   ]
  },
  {
   "cell_type": "markdown",
   "metadata": {},
   "source": [
    "<h3> 3. ¿Cuál es la posición de las articulaciones?</h3>\n",
    "Utilizando los manejadores, podemos obtener información de los elementos."
   ]
  },
  {
   "cell_type": "code",
   "execution_count": 118,
   "metadata": {},
   "outputs": [
    {
     "name": "stdout",
     "output_type": "stream",
     "text": [
      "-1.9257584416010332e-10\n"
     ]
    }
   ],
   "source": [
    "# leemos la posición de joint1, en radianes.\n",
    "returnCode, pos1 = sim.simxGetJointPosition(clientID, joint1, sim.simx_opmode_blocking)\n",
    "print(pos1)"
   ]
  },
  {
   "cell_type": "code",
   "execution_count": 119,
   "metadata": {},
   "outputs": [
    {
     "name": "stdout",
     "output_type": "stream",
     "text": [
      "0.024402718991041183\n"
     ]
    }
   ],
   "source": [
    "returnCode, pos2 = sim.simxGetJointPosition(clientID, joint2, sim.simx_opmode_blocking)\n",
    "print(pos2)"
   ]
  },
  {
   "cell_type": "markdown",
   "metadata": {},
   "source": [
    "<h3> 4. ... y movemos el robot</h3>\n",
    "Utilizando los manejadores, podemos enviar parámetros a los elementos."
   ]
  },
  {
   "cell_type": "code",
   "execution_count": 135,
   "metadata": {},
   "outputs": [
    {
     "name": "stdout",
     "output_type": "stream",
     "text": [
      "0\n"
     ]
    }
   ],
   "source": [
    "# enviamos la posición de joint1, en radianes.\n",
    "q1 = 0 * np.pi/180\n",
    "returnCode = sim.simxSetJointTargetPosition(clientID, joint1, q1, sim.simx_opmode_oneshot)\n",
    "print(returnCode)"
   ]
  },
  {
   "cell_type": "code",
   "execution_count": 132,
   "metadata": {},
   "outputs": [
    {
     "name": "stdout",
     "output_type": "stream",
     "text": [
      "0\n"
     ]
    }
   ],
   "source": [
    "q2 = 40 * np.pi/180\n",
    "returnCode = sim.simxSetJointTargetPosition(clientID, joint2, q2, sim.simx_opmode_oneshot)\n",
    "print(returnCode)"
   ]
  },
  {
   "cell_type": "code",
   "execution_count": 122,
   "metadata": {},
   "outputs": [
    {
     "name": "stdout",
     "output_type": "stream",
     "text": [
      "conectado a 19999\n"
     ]
    }
   ],
   "source": [
    "# Ponemos todo el código junto\n",
    "# conectamos\n",
    "clientID = connect(19999)\n",
    "# obtenemos los manejadores\n",
    "returnCode,handle=sim.simxGetObjectHandle(clientID,'dummy',sim.simx_opmode_blocking)\n",
    "dummy = handle\n",
    "ret,joint1=sim.simxGetObjectHandle(clientID,'joint1',sim.simx_opmode_blocking)\n",
    "ret,joint2=sim.simxGetObjectHandle(clientID,'joint2',sim.simx_opmode_blocking)\n",
    "#movemos\n",
    "q1 = -90 * np.pi/180\n",
    "returnCode = sim.simxSetJointTargetPosition(clientID, joint1, q1, sim.simx_opmode_oneshot)\n",
    "q2 = 0 * np.pi/180\n",
    "returnCode = sim.simxSetJointTargetPosition(clientID, joint2, q2, sim.simx_opmode_oneshot)"
   ]
  },
  {
   "cell_type": "code",
   "execution_count": 123,
   "metadata": {},
   "outputs": [
    {
     "name": "stdout",
     "output_type": "stream",
     "text": [
      "[0.41895967721939087, -0.028877634555101395, 8.731550593665816e-08]\n"
     ]
    }
   ],
   "source": [
    "returnCode,pos=sim.simxGetObjectPosition(clientID, dummy, -1, sim.simx_opmode_blocking)\n",
    "print(pos)"
   ]
  },
  {
   "cell_type": "markdown",
   "metadata": {},
   "source": [
    "Código para saber si esta todo correcto"
   ]
  },
  {
   "cell_type": "code",
   "execution_count": 124,
   "metadata": {},
   "outputs": [],
   "source": [
    "returnCode, handle = sim.simxGetObjectHandle(clientID, 'dummy', sim.simx_opmode_blocking)\n",
    "if returnCode != sim.simx_return_ok:\n",
    "    print(\"Error al obtener el handle de 'dummy'\")\n",
    "    exit()\n",
    "\n",
    "ret, joint1 = sim.simxGetObjectHandle(clientID, 'joint1', sim.simx_opmode_blocking)\n",
    "if ret != sim.simx_return_ok:\n",
    "    print(\"Error al obtener el handle de 'joint1'\")\n",
    "    exit()\n",
    "\n",
    "ret, joint2 = sim.simxGetObjectHandle(clientID, 'joint2', sim.simx_opmode_blocking)\n",
    "if ret != sim.simx_return_ok:\n",
    "    print(\"Error al obtener el handle de 'joint2'\")\n",
    "    exit()"
   ]
  },
  {
   "cell_type": "markdown",
   "metadata": {},
   "source": [
    "Código completo con cambios para que se mueva y vuelva al principio"
   ]
  },
  {
   "cell_type": "code",
   "execution_count": null,
   "metadata": {},
   "outputs": [
    {
     "name": "stdout",
     "output_type": "stream",
     "text": [
      "Conexión establecida correctamente.\n",
      "Movimiento de joint1 solicitado\n",
      "Movimiento de joint2 solicitado\n",
      "Posición actual de joint1: -7.974923832421155e-09\n",
      "Posición actual de joint2: 0.02335146628320217\n"
     ]
    }
   ],
   "source": [
    "import time\n",
    "import numpy as np\n",
    "\n",
    "# Verificar conexión con CoppeliaSim\n",
    "if clientID != -1:\n",
    "    print(\"Conexión establecida correctamente.\")\n",
    "else:\n",
    "    print(\"Error en la conexión con CoppeliaSim.\")\n",
    "    exit()\n",
    "\n",
    "# Enviar los comandos de movimiento con opmode_blocking\n",
    "q1 = 0 * np.pi / 180  # Ángulo para joint1 (cambiar a un valor simple)\n",
    "q2 = 0 * np.pi / 180  # Ángulo para joint2\n",
    "\n",
    "# Mover joint1\n",
    "returnCode = sim.simxSetJointTargetPosition(clientID, joint1, q1, sim.simx_opmode_blocking)\n",
    "if returnCode != sim.simx_return_ok:\n",
    "    print(\"Error al mover joint1\")\n",
    "else:\n",
    "    print(\"Movimiento de joint1 solicitado\")\n",
    "\n",
    "# Mover joint2\n",
    "returnCode = sim.simxSetJointTargetPosition(clientID, joint2, q2, sim.simx_opmode_blocking)\n",
    "if returnCode != sim.simx_return_ok:\n",
    "    print(\"Error al mover joint2\")\n",
    "else:\n",
    "    print(\"Movimiento de joint2 solicitado\")\n",
    "\n",
    "# Esperar un segundo para que los movimientos se apliquen\n",
    "time.sleep(1)\n",
    "\n",
    "# Verificar las posiciones actuales de las articulaciones\n",
    "ret, jointPos1 = sim.simxGetJointPosition(clientID, joint1, sim.simx_opmode_blocking)\n",
    "ret, jointPos2 = sim.simxGetJointPosition(clientID, joint2, sim.simx_opmode_blocking)\n",
    "\n",
    "# Mostrar las posiciones de las articulaciones\n",
    "print(f\"Posición actual de joint1: {jointPos1}\")\n",
    "print(f\"Posición actual de joint2: {jointPos2}\")"
   ]
  }
 ],
 "metadata": {
  "kernelspec": {
   "display_name": "Python 3",
   "language": "python",
   "name": "python3"
  },
  "language_info": {
   "codemirror_mode": {
    "name": "ipython",
    "version": 3
   },
   "file_extension": ".py",
   "mimetype": "text/x-python",
   "name": "python",
   "nbconvert_exporter": "python",
   "pygments_lexer": "ipython3",
   "version": "3.13.2"
  }
 },
 "nbformat": 4,
 "nbformat_minor": 2
}
